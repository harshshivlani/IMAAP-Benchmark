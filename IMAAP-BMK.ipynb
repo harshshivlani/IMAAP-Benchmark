{
 "cells": [
  {
   "cell_type": "markdown",
   "metadata": {},
   "source": [
    "# IMAAP - Benchmark Analytics"
   ]
  },
  {
   "cell_type": "code",
   "execution_count": 1,
   "metadata": {},
   "outputs": [],
   "source": [
    "import numpy as np\n",
    "import pandas as pd\n",
    "import plotly\n",
    "import plotly.express as px\n",
    "import edhec_risk_kit as erk\n",
    "import matplotlib\n",
    "import ipywidgets as widgets\n",
    "from ipywidgets import interact, interact_manual"
   ]
  },
  {
   "cell_type": "code",
   "execution_count": 2,
   "metadata": {},
   "outputs": [],
   "source": [
    "price_data = pd.read_excel('benchmark_data.xlsx', header=0, index_col=0, parse_dates=True)\n",
    "imaap = pd.read_excel('benchmark_data.xlsx', sheet_name='IMAAP', header=0, index_col=0, parse_dates=True)"
   ]
  },
  {
   "cell_type": "code",
   "execution_count": 3,
   "metadata": {},
   "outputs": [],
   "source": [
    "bmk1 = price_data[['NSE500TR', '10Y GSec Index', 'GOLD']].copy()\n",
    "bmk1.dropna(inplace=True)"
   ]
  },
  {
   "cell_type": "code",
   "execution_count": 4,
   "metadata": {},
   "outputs": [],
   "source": [
    "bmk2 = price_data[['NSE500TR', 'CRISIL Bond Index', 'GOLD']].copy()\n",
    "bmk2.dropna(inplace=True)"
   ]
  },
  {
   "cell_type": "code",
   "execution_count": 5,
   "metadata": {},
   "outputs": [],
   "source": [
    "def index_cons(securities, weights, freq='Quarterly'):\n",
    "    \"\"\"\n",
    "    Securities = Dataframe of 3 Securities Time Series Data (Price Index)\n",
    "    Weights =  List including 3 weights (float or int), adding up to 1\n",
    "    Frequency = 'Quarterly' or 'Monthly'\n",
    "    \"\"\"\n",
    "    if freq=='Quarterly':\n",
    "        month1 = pd.Series(securities.index.quarter)\n",
    "        month2 = pd.Series(securities.index.quarter).shift(-1)\n",
    "        mask = (month1 != month2)\n",
    "        bmk2q = securities[mask.values]\n",
    "    elif freq =='Monthly':\n",
    "        month1 = pd.Series(securities.index.month)\n",
    "        month2 = pd.Series(securities.index.month).shift(-1)\n",
    "        mask = (month1 != month2)\n",
    "        bmk2q = securities[mask.values]\n",
    "\n",
    "    bmk2q = bmk2q*0\n",
    "    bmk2q = bmk2q + weights\n",
    "\n",
    "    bmk2q.columns = bmk2q.columns + 'W' \n",
    "    bmk2f = securities.join(bmk2q, on='Date')\n",
    "    bmk2f.iloc[0,3:] = weights\n",
    "    bmk2f['Index'] = bmk2f.iloc[:,0].copy()*0\n",
    "    bmk2f['Index'][0] = 10000\n",
    "\n",
    "    bmk2f['Sec-1'] = bmk2f.iloc[:,0].copy()*0\n",
    "    bmk2f['Sec-2'] = bmk2f.iloc[:,0].copy()*0\n",
    "    bmk2f['Sec-3'] = bmk2f.iloc[:,0].copy()*0\n",
    "\n",
    "    for i in range(len(bmk2f)-1):\n",
    "        if bmk2f.iloc[:,3][i] > 0:\n",
    "            bmk2f.iloc[:,7][i] = (bmk2f.iloc[:,6][i] * bmk2f.iloc[:,3][i])/bmk2f.iloc[:,0][i]\n",
    "            bmk2f.iloc[:,8][i] = (bmk2f.iloc[:,6][i] * bmk2f.iloc[:,4][i])/bmk2f.iloc[:,1][i]\n",
    "            bmk2f.iloc[:,9][i] = (bmk2f.iloc[:,6][i] * bmk2f.iloc[:,5][i])/bmk2f.iloc[:,2][i] \n",
    "        else:\n",
    "            bmk2f.iloc[:,7][i] = bmk2f.iloc[:,7][i-1]\n",
    "            bmk2f.iloc[:,8][i] = bmk2f.iloc[:,8][i-1]\n",
    "            bmk2f.iloc[:,9][i] = bmk2f.iloc[:,9][i-1]\n",
    "\n",
    "        bmk2f.iloc[:,6][i+1] = (bmk2f.iloc[:,7][i]*bmk2f.iloc[:,0][i+1]) + (bmk2f.iloc[:,8][i]*bmk2f.iloc[:,1][i+1]) + (bmk2f.iloc[:,9][i]*bmk2f.iloc[:,2][i+1])\n",
    "\n",
    "    return pd.DataFrame(bmk2f[['Index']])"
   ]
  },
  {
   "attachments": {},
   "cell_type": "markdown",
   "metadata": {},
   "source": [
    "## IMAAP vs Benchmark I\n",
    "\n",
    "Benchmark here consists of three components i.e.\n",
    "\n",
    "1. NSE500 Total Return Index\n",
    "2. Nifty 10-Year Benchmark G-Sec Index\n",
    "3. MCX Gold\n",
    "\n",
    "\n",
    "The chart and summary statistics compare the **IMAAP Portfolio** with the above stated **Benchmark** and the **CRISIL Short Term Debt Hybrid 60+40 Fund Index (CRDH6040)**\n",
    "\n",
    "Data Source: Bloomberg"
   ]
  },
  {
   "cell_type": "code",
   "execution_count": 36,
   "metadata": {},
   "outputs": [
    {
     "data": {
      "application/vnd.jupyter.widget-view+json": {
       "model_id": "3d0edb6890b849239f8da203a086407f",
       "version_major": 2,
       "version_minor": 0
      },
      "text/plain": [
       "interactive(children=(DatePicker(value=Timestamp('2011-01-03 00:00:00'), description='Start Date: ', style=Des…"
      ]
     },
     "metadata": {},
     "output_type": "display_data"
    }
   ],
   "source": [
    "def index1(start, end, freq, w1, w2, w3, roll_period=3):\n",
    "    bmk = index_cons(bmk1, [w1, w2, w3], freq=freq)\n",
    "    bmk.columns = ['Benchmark']\n",
    "    df0 = bmk.merge(imaap['IMAAP'], on='Date').merge(price_data['CRDH6040'].dropna(), on='Date')\n",
    "    df0.dropna(inplace=True)\n",
    "    \n",
    "    #Performance\n",
    "    rets = df0.pct_change().dropna()[start:end]\n",
    "    rets.iloc[0,:] = 0\n",
    "    df = ((1+rets).cumprod().dropna()-1)\n",
    "    fig = px.line(df, x=df.index, y=df.columns)\n",
    "    fig.update_layout(title = 'IMAAP Vs Benchmark I (NSE500, India 10Y GSec Index, Gold)',\n",
    "                   xaxis_title='Date',\n",
    "                   yaxis_title='Return (%)', font=dict(family=\"Segoe UI, monospace\", size=13, color=\"#282828\"),\n",
    "                   legend_title_text='Portfolios', plot_bgcolor = 'White', yaxis_tickformat = '%')\n",
    "    fig.update_traces(hovertemplate='Date: %{x} <br>Return: %{y:.2%}') \n",
    "    fig.update_yaxes(automargin=True)\n",
    "    fig.show()\n",
    "    \n",
    "    #Rolling Returns & Sharpe\n",
    "    roll = (1+df0.pct_change(252*roll_period).dropna()[start:end])**(1/roll_period)-1\n",
    "    roll_sharpe = df0.pct_change().dropna().rolling(252*roll_period).apply(lambda x: (x.mean() / x.std()) * np.sqrt(252)).dropna()\n",
    "    fig1 = px.line(roll, x=roll.index, y=roll.columns)\n",
    "    fig2 = px.line(roll_sharpe, x=roll_sharpe.index, y=roll_sharpe.columns)\n",
    "    fig1.update_layout(title = 'IMAAP Vs Benchmark I: '+ str(roll_period) + '-Year Annualized Rolling Returns',\n",
    "                   xaxis_title='Date',\n",
    "                   yaxis_title='Annualized Return (%)', font=dict(family=\"Segoe UI, monospace\", size=13, color=\"#282828\"),\n",
    "                   legend_title_text='Portfolios', plot_bgcolor = 'White', yaxis_tickformat = '%')\n",
    "    \n",
    "    fig1.update_traces(hovertemplate='Date: %{x} <br>Return: %{y:.2%}') \n",
    "    fig1.update_yaxes(automargin=True)\n",
    "    fig1.show()\n",
    "    \n",
    "    fig2.update_layout(title = 'IMAAP Vs Benchmark I: '+ str(roll_period) + '-Year Annualized Reward/Risk Ratio',\n",
    "                   xaxis_title='Date',\n",
    "                   yaxis_title='Reward/Risk', font=dict(family=\"Segoe UI, monospace\", size=13, color=\"#282828\"),\n",
    "                   legend_title_text='Portfolios', plot_bgcolor = 'White',  yaxis_tickformat = '.2f')\n",
    "    fig2.update_traces(hovertemplate='Date: %{x} <br>Reward/Risk: %{y:.2f}') \n",
    "    fig2.update_yaxes(automargin=True)\n",
    "    fig2.show()\n",
    "    \n",
    "    #Summary Statistics\n",
    "    summ = erk.summary_stats(rets, 0, 252).sort_values(by='Sharpe Ratio', ascending=False).T\n",
    "    return summ\n",
    "\n",
    "style = {'description_width': 'initial'}\n",
    "interact(index1,\n",
    "                freq = widgets.Dropdown(options=['Quarterly', 'Monthly'], value='Quarterly', style=style, description='Rebalanced: '),\n",
    "                start = widgets.DatePicker(value=bmk1.index[0],style=style, description = 'Start Date: '),\n",
    "                end = widgets.DatePicker(value=bmk1.index[-1],style=style, description = 'End Date: '),\n",
    "                w1 = widgets.BoundedFloatText(min= 0, max=1, step=0.01, value=0.6, description='NSE500 TR Index (%): ', style=style),\n",
    "                w2 = widgets.BoundedFloatText(min= 0, max=1, step=0.01, value=0.3, description='India 10Y GSec Index (%): ', style=style),\n",
    "                w3 = widgets.BoundedFloatText(min= 0, max=1, step=0.01, value=0.1, description='MCX Gold (%): ', style=style),\n",
    "                roll_period = widgets.BoundedIntText(min= 1, max=10, step=1, value=3, description='Rolling Period (Yrs): ', style=style));"
   ]
  },
  {
   "attachments": {},
   "cell_type": "markdown",
   "metadata": {},
   "source": [
    "## IMAAP vs Benchmark II\n",
    "\n",
    "Benchmark here consists of three components i.e.\n",
    "\n",
    "1. NSE500 Total Return Index\n",
    "2. CRISIL Composite Bond Fund Index\n",
    "3. MCX Gold\n",
    "\n",
    "The chart and summary statistics compare the **IMAAP Portfolio** with the above stated **Benchmark** and the **CRISIL Short Term Debt Hybrid 60+40 Fund Index (CRDH6040)**\n",
    "\n",
    "Data Source: Bloomberg"
   ]
  },
  {
   "cell_type": "code",
   "execution_count": 37,
   "metadata": {},
   "outputs": [
    {
     "data": {
      "application/vnd.jupyter.widget-view+json": {
       "model_id": "112a5a8b33b04650abe88602f4dd0744",
       "version_major": 2,
       "version_minor": 0
      },
      "text/plain": [
       "interactive(children=(DatePicker(value=Timestamp('2004-01-01 00:00:00'), description='Start Date: ', style=Des…"
      ]
     },
     "metadata": {},
     "output_type": "display_data"
    }
   ],
   "source": [
    "def index2(start, end, freq, w1, w2, w3, roll_period=3):\n",
    "    bmk = index_cons(bmk2, [w1, w2, w3], freq=freq)\n",
    "    bmk.columns = ['Benchmark']\n",
    "    df0 = bmk.merge(imaap['IMAAP'], on='Date').merge(price_data['CRDH6040'].dropna(), on='Date')\n",
    "    df0.dropna(inplace=True)\n",
    "    \n",
    "    #Performance\n",
    "    rets = df0.pct_change().dropna()[start:end]\n",
    "    rets.iloc[0,:] = 0\n",
    "    df = ((1+rets).cumprod().dropna()-1)\n",
    "    fig = px.line(df, x=df.index, y=df.columns)\n",
    "    fig.update_layout(title = 'IMAAP Vs Benchmark II (NSE500, CRISIL Composite Bond Fund Index, Gold)',\n",
    "                   xaxis_title='Date',\n",
    "                   yaxis_title='Return (%)', font=dict(family=\"Segoe UI, monospace\", size=13, color=\"#282828\"),\n",
    "                   legend_title_text='Portfolios', plot_bgcolor = 'White', yaxis_tickformat = '%')\n",
    "    fig.update_traces(hovertemplate='Date: %{x} <br>Return: %{y:.2%}') \n",
    "    fig.update_yaxes(automargin=True)\n",
    "    fig.show()\n",
    "    \n",
    "    #Rolling Returns & Sharpe\n",
    "    roll = (1+df0.pct_change(252*roll_period).dropna()[start:end])**(1/roll_period)-1\n",
    "    roll_sharpe = df0.pct_change().dropna().rolling(252*roll_period).apply(lambda x: (x.mean() / x.std()) * np.sqrt(252)).dropna()\n",
    "    fig1 = px.line(roll, x=roll.index, y=roll.columns)\n",
    "    fig2 = px.line(roll_sharpe, x=roll_sharpe.index, y=roll_sharpe.columns)\n",
    "    fig1.update_layout(title = 'IMAAP Vs Benchmark II: '+ str(roll_period) + '-Year Annualized Rolling Returns',\n",
    "                   xaxis_title='Date',\n",
    "                   yaxis_title='Annualized Return (%)', font=dict(family=\"Segoe UI, monospace\", size=13, color=\"#282828\"),\n",
    "                   legend_title_text='Portfolios', plot_bgcolor = 'White', yaxis_tickformat = '%')\n",
    "    fig1.update_traces(hovertemplate='Date: %{x} <br>Return: %{y:.2%}') \n",
    "    fig1.update_yaxes(automargin=True)\n",
    "    fig1.show()\n",
    "    \n",
    "    fig2.update_layout(title = 'IMAAP Vs Benchmark II: '+ str(roll_period) + '-Year Annualized Reward/Risk Ratio',\n",
    "                   xaxis_title='Date',\n",
    "                   yaxis_title='Reward/Risk', font=dict(family=\"Segoe UI, monospace\", size=13, color=\"#282828\"),\n",
    "                   legend_title_text='Portfolios', plot_bgcolor = 'White',  yaxis_tickformat = '.2f')\n",
    "    fig2.update_traces(hovertemplate='Date: %{x} <br>Reward/Risk: %{y:.2f}') \n",
    "    fig2.update_yaxes(automargin=True)\n",
    "    fig2.show()\n",
    "    \n",
    "    \n",
    "    \n",
    "    #Summary Statistics\n",
    "    summ=erk.summary_stats(rets, 0, 252).sort_values(by='Sharpe Ratio', ascending=False).T\n",
    "    return summ\n",
    "\n",
    "style = {'description_width': 'initial'}\n",
    "interact(index2,\n",
    "                freq = widgets.Dropdown(options=['Quarterly', 'Monthly'], value='Quarterly', style=style, description='Rebalanced: '),\n",
    "                start = widgets.DatePicker(value=bmk2.index[0],style=style, description = 'Start Date: '),\n",
    "                end = widgets.DatePicker(value=bmk2.index[-1],style=style, description = 'End Date: '),\n",
    "                w1 = widgets.BoundedFloatText(min= 0, max=1, step=0.01, value=0.60, description='NSE500 TR Index (%): ', style=style),\n",
    "                w2 = widgets.BoundedFloatText(min= 0, max=1, step=0.01, value=0.30, description='CRISIL Composite Bond Fund Index (%): ', style=style),\n",
    "                w3 = widgets.BoundedFloatText(min= 0, max=1, step=0.01, value=0.10, description='MCX Gold (%): ', style=style),\n",
    "                roll_period = widgets.BoundedIntText(min= 1, max=10, step=1, value=3, description='Rolling Period (Yrs): ', style=style));"
   ]
  },
  {
   "cell_type": "markdown",
   "metadata": {},
   "source": [
    "## Generate Full Analytics Report"
   ]
  },
  {
   "cell_type": "code",
   "execution_count": 38,
   "metadata": {},
   "outputs": [
    {
     "data": {
      "application/vnd.jupyter.widget-view+json": {
       "model_id": "a1e7a94e284d4880a9e5b33af078d914",
       "version_major": 2,
       "version_minor": 0
      },
      "text/plain": [
       "interactive(children=(Dropdown(description='Select Benchmark: ', options=('Benchmark I', 'Benchmark II'), styl…"
      ]
     },
     "metadata": {},
     "output_type": "display_data"
    }
   ],
   "source": [
    "import webbrowser\n",
    "import quantstats as qs\n",
    "\n",
    "def show_tearsheet(option, freq, w1, w2, w3, opt):\n",
    "    if option == 'Benchmark I':\n",
    "        bmk = index_cons(bmk1, [w1, w2, w3], freq=freq)\n",
    "        bmk.columns = ['Benchmark']\n",
    "        df = bmk.merge(imaap['IMAAP'], on='Date')\n",
    "        df.dropna(inplace=True)\n",
    "        if opt=='HTML':\n",
    "            qs.reports.html(df['IMAAP'], df['Benchmark'], output='IMAAP-BMK.html', title='IMAAP Vs Benchmark I (NSE500: 60%, India 10Y GSec Index: 30%, Gold: 10%)')\n",
    "            new = 2\n",
    "            url = \"IMAAP-BMK.html\"\n",
    "            return webbrowser.open(url,new=new);\n",
    "        else:\n",
    "            return qs.reports.full(df['IMAAP'], df['Benchmark'])\n",
    "    elif option == 'Benchmark II':\n",
    "        bmk = index_cons(bmk2, [w1, w2, w3], freq=freq)\n",
    "        bmk.columns = ['Benchmark']\n",
    "        df = bmk.merge(imaap['IMAAP'], on='Date')\n",
    "        df.dropna(inplace=True)\n",
    "        if opt=='HTML':\n",
    "            qs.reports.html(df['IMAAP'], df['Benchmark'], output='IMAAP-BMK.html', title='IMAAP Vs Benchmark I (NSE500: 60%, CRISIL Composite Bond Fund Index: 30%, Gold: 10%)')\n",
    "            new = 2\n",
    "            url = \"IMAAP-BMK.html\"\n",
    "            return webbrowser.open(url,new=new);\n",
    "        else:\n",
    "            return qs.reports.full(df['IMAAP'], df['Benchmark'])\n",
    "\n",
    "interact(show_tearsheet,\n",
    "                freq = widgets.Dropdown(options=['Quarterly', 'Monthly'], value='Quarterly', style=style, description='Rebalanced: '),\n",
    "                opt = widgets.Dropdown(options=['In-Page', 'HTML'], value='In-Page', style=style, description='Report: '),\n",
    "                option = widgets.Dropdown(options=['Benchmark I', 'Benchmark II'], value='Benchmark I', style=style, description='Select Benchmark: '),\n",
    "                w1 = widgets.BoundedFloatText(min= 0, max=1, step=0.01, value=0.6, description='NSE500 TR Index (%): ', style=style),\n",
    "                w2 = widgets.BoundedFloatText(min= 0, max=1, step=0.01, value=0.3, description='Bond Index (%): ', style=style),\n",
    "                w3 = widgets.BoundedFloatText(min= 0, max=1, step=0.01, value=0.1, description='MCX Gold (%): ', style=style));"
   ]
  },
  {
   "cell_type": "code",
   "execution_count": null,
   "metadata": {},
   "outputs": [],
   "source": []
  }
 ],
 "metadata": {
  "kernelspec": {
   "display_name": "Python 3",
   "language": "python",
   "name": "python3"
  },
  "language_info": {
   "codemirror_mode": {
    "name": "ipython",
    "version": 3
   },
   "file_extension": ".py",
   "mimetype": "text/x-python",
   "name": "python",
   "nbconvert_exporter": "python",
   "pygments_lexer": "ipython3",
   "version": "3.7.3"
  }
 },
 "nbformat": 4,
 "nbformat_minor": 2
}
